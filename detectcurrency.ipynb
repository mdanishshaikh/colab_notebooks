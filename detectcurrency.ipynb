{
  "nbformat": 4,
  "nbformat_minor": 0,
  "metadata": {
    "colab": {
      "name": "detectcurrency.ipynb",
      "provenance": [],
      "collapsed_sections": [],
      "mount_file_id": "18TSm8YsnFevbWAz7CniImXdAge6RELTO",
      "authorship_tag": "ABX9TyNDL8KVK3vfEB5OfrkbkJWL",
      "include_colab_link": true
    },
    "kernelspec": {
      "name": "python3",
      "display_name": "Python 3"
    },
    "language_info": {
      "name": "python"
    }
  },
  "cells": [
    {
      "cell_type": "markdown",
      "metadata": {
        "id": "view-in-github",
        "colab_type": "text"
      },
      "source": [
        "<a href=\"https://colab.research.google.com/github/mdanishshaikh/colab_notebooks/blob/master/detectcurrency.ipynb\" target=\"_parent\"><img src=\"https://colab.research.google.com/assets/colab-badge.svg\" alt=\"Open In Colab\"/></a>"
      ]
    },
    {
      "cell_type": "code",
      "source": [
        "pip install gtts"
      ],
      "metadata": {
        "id": "O_5V7eRJ3-Ks"
      },
      "execution_count": null,
      "outputs": []
    },
    {
      "cell_type": "code",
      "source": [
        "from gtts import gTTS\n",
        "from IPython.display import Audio"
      ],
      "metadata": {
        "id": "n83vAvom3tr6"
      },
      "execution_count": null,
      "outputs": []
    },
    {
      "cell_type": "code",
      "source": [
        "import sys\n",
        "sys.path.append('/content/drive/MyDrive')"
      ],
      "metadata": {
        "id": "IWMhbqAy8_0s"
      },
      "execution_count": null,
      "outputs": []
    },
    {
      "cell_type": "code",
      "source": [
        "import opencv2\n",
        "from opencv2 import *"
      ],
      "metadata": {
        "id": "LCHN6k3f9MWC"
      },
      "execution_count": null,
      "outputs": []
    },
    {
      "cell_type": "code",
      "source": [
        "import subprocess\n",
        "max_val = 8\n",
        "max_pt = -1\n",
        "max_kp = 0"
      ],
      "metadata": {
        "id": "RJOehBOlTDzm"
      },
      "execution_count": null,
      "outputs": []
    },
    {
      "cell_type": "code",
      "source": [
        "orb = cv2.ORB_create(nfeatures=2500)\n",
        "test_img = read_img('/content/drive/MyDrive/100train/INDIA100OLD_4.jpg')\n",
        "(kp1, des1) = orb.detectAndCompute(test_img, 1)\t\n",
        "training_set = ['/content/drive/MyDrive/100train/INDIA100OLD_1.jpg','/content/drive/MyDrive/100train/INDIA100OLD_2.jpg','/content/drive/MyDrive/100train/INDIA100OLD_3.jpg','/content/drive/MyDrive/100train/INDIA100OLD_4.jpg','/content/drive/MyDrive/100train/INDIA100OLD_5.jpg','/content/drive/MyDrive/100train/INDIA10NEW_160.jpg','/content/drive/MyDrive/100train/INDIA10NEW_159.jpg','/content/drive/MyDrive/100train/INDIA10NEW_153.jpg','/content/drive/MyDrive/100train/INDIA10NEW_154.jpg','/content/drive/MyDrive/100train/INDIA10NEW_156.jpg','/content/drive/MyDrive/100train/INDIA10NEW_146.jpg','/content/drive/MyDrive/100train/INDIA50NEW_1.jpg','/content/drive/MyDrive/100train/INDIA50NEW_2.jpg','/content/drive/MyDrive/100train/INDIA50NEW_3.jpg','/content/drive/MyDrive/100train/INDIA50NEW_4.jpg','/content/drive/MyDrive/100train/INDIA50NEW_5.jpg','/content/drive/MyDrive/100train/INDIA50NEW_6.jpg','/content/drive/MyDrive/100train/INDIA20_1.jpg','/content/drive/MyDrive/100train/INDIA20_2.jpg','/content/drive/MyDrive/100train/INDIA20_3.jpg','/content/drive/MyDrive/100train/INDIA20_4.jpg','/content/drive/MyDrive/100train/INDIA20_5.jpg','/content/drive/MyDrive/100train/INDIA20_7.jpg']"
      ],
      "metadata": {
        "id": "2f4-_QhJTfe7"
      },
      "execution_count": null,
      "outputs": []
    },
    {
      "cell_type": "code",
      "source": [
        "for i in range(0, len(training_set)):\n",
        "  train_img = cv2.imread(training_set[i])\n",
        "  (kp2, des2) = orb.detectAndCompute(train_img, None)\n",
        "  bf = cv2.BFMatcher()\n",
        "  all_matches = bf.knnMatch(des1, des2, k=2)\n",
        "  good = []\n",
        "  for (m, n) in all_matches:\n",
        "    if m.distance < 0.789 * n.distance:\n",
        "      good.append([m])\n",
        "  if len(good) > max_val:\n",
        "    max_val = len(good)\n",
        "    max_pt = i\n",
        "    max_kp = kp2"
      ],
      "metadata": {
        "id": "t-whGeIkVl34"
      },
      "execution_count": null,
      "outputs": []
    },
    {
      "cell_type": "code",
      "source": [
        "if max_val != 8:\n",
        "\t    print(training_set[max_pt])\n",
        "\t    print('good matches ', max_val)\n",
        "\n",
        "\t    train_img = cv2.imread(training_set[max_pt])\n",
        "\t    img3 = cv2.drawMatchesKnn(test_img, kp1, train_img, max_kp, good, 4)\n",
        "\n",
        "\t    note = str(training_set[max_pt])[6:-4]\n",
        "\t    print('\\nDetected denomination: Rs. ', note)\n",
        "\n",
        "\t    audio_file = 'audio/' + note + '.mp3'\n",
        "else:\n",
        "  print('No Matches')"
      ],
      "metadata": {
        "colab": {
          "base_uri": "https://localhost:8080/"
        },
        "id": "_anmziDIVpia",
        "outputId": "dc229b23-1102-47f0-8acc-e75c67ede290"
      },
      "execution_count": null,
      "outputs": [
        {
          "output_type": "stream",
          "name": "stdout",
          "text": [
            "/content/drive/MyDrive/100train/INDIA100OLD_4.jpg\n",
            "good matches  2500\n",
            "\n",
            "Detected denomination: Rs.  nt/drive/MyDrive/100train/INDIA100OLD_4\n"
          ]
        }
      ]
    },
    {
      "cell_type": "code",
      "source": [
        "final = note.split(\"/\")[-1]\n",
        "final = final[5:8]\n",
        "speech = 'This note is of denomination'+final+'rupees'"
      ],
      "metadata": {
        "id": "KVa9hLYq5nN2"
      },
      "execution_count": null,
      "outputs": []
    },
    {
      "cell_type": "code",
      "source": [
        "gtts = gTTS(speech)\n",
        "gtts.save('1.wav') \n",
        "sound_file = '1.wav'\n",
        "Audio(sound_file, autoplay=True) "
      ],
      "metadata": {
        "colab": {
          "base_uri": "https://localhost:8080/",
          "height": 75
        },
        "id": "u2bf_TMf6u_P",
        "outputId": "741eac7c-ebe6-4a82-a6ec-ba41f2f74b69"
      },
      "execution_count": null,
      "outputs": [
        {
          "output_type": "execute_result",
          "data": {
            "text/html": [
              "\n",
              "                <audio controls=\"controls\" autoplay=\"autoplay\">\n",
              "                    <source src=\"data:audio/x-wav;base64,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\" type=\"audio/x-wav\" />\n",
              "                    Your browser does not support the audio element.\n",
              "                </audio>\n",
              "              "
            ],
            "text/plain": [
              "<IPython.lib.display.Audio object>"
            ]
          },
          "metadata": {},
          "execution_count": 24
        }
      ]
    }
  ]
}